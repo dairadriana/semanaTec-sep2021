{
  "nbformat": 4,
  "nbformat_minor": 0,
  "metadata": {
    "colab": {
      "name": "6.3 - Actividad Regresion Linea.ipynb",
      "provenance": [],
      "collapsed_sections": []
    },
    "kernelspec": {
      "display_name": "Python 3",
      "language": "python",
      "name": "python3"
    },
    "language_info": {
      "codemirror_mode": {
        "name": "ipython",
        "version": 3
      },
      "file_extension": ".py",
      "mimetype": "text/x-python",
      "name": "python",
      "nbconvert_exporter": "python",
      "pygments_lexer": "ipython3",
      "version": "3.8.5"
    }
  },
  "cells": [
    {
      "cell_type": "markdown",
      "metadata": {
        "id": "NAGZIGX35a8I"
      },
      "source": [
        "# Actividad\n",
        "\n",
        "- **Nombre**: \n",
        "Daira Adriana Chavarría Rodríguez\n",
        "\n",
        "- **Matrícula**: \n",
        "A01274745\n",
        "\n",
        "\n",
        "# Entregar \n",
        "Archivo PDF de la actividad y la liga de la actividad en su repostitorio.\n",
        "\n",
        "# Nota: \n",
        "Todas las tareas entregadas fuera de la fecha limite se califican sobre 50 de los 100 puntos posibles.\n",
        "\n",
        "# Importante: \n",
        "- Colocar nombre en ejes en gráficas\n",
        "- Nombre en gráficas \n",
        "- Conclusiones con el nombre de cada alumno\n",
        "- Contestar cada pregunta\n"
      ]
    },
    {
      "cell_type": "markdown",
      "metadata": {
        "id": "A6u_Q2Jwxn7Q"
      },
      "source": [
        "#**Presion Arterial**"
      ]
    },
    {
      "cell_type": "markdown",
      "metadata": {
        "id": "aZ8qy6Ir5c8X"
      },
      "source": [
        "1. Carga los datos del archivo **presion.csv**"
      ]
    },
    {
      "cell_type": "code",
      "metadata": {
        "id": "ahNyt07-5ijr",
        "colab": {
          "base_uri": "https://localhost:8080/"
        },
        "outputId": "a5a68886-8cea-461d-aa6b-6d7c0e437ccd"
      },
      "source": [
        "from google.colab import drive\n",
        "drive.mount('/content/drive/')"
      ],
      "execution_count": 2,
      "outputs": [
        {
          "output_type": "stream",
          "name": "stdout",
          "text": [
            "Mounted at /content/drive/\n"
          ]
        }
      ]
    },
    {
      "cell_type": "code",
      "metadata": {
        "colab": {
          "base_uri": "https://localhost:8080/"
        },
        "id": "h_n_ET1Xo207",
        "outputId": "224272bd-1fbd-400e-df8d-8055a7f0269d"
      },
      "source": [
        "%pwd\n",
        "%cd 'drive/MyDrive/semanaTec/arte-analitica'\n",
        "import numpy as np\n",
        "import pandas as pd\n",
        "import matplotlib.pyplot as plt\n",
        "import seaborn as sns"
      ],
      "execution_count": 8,
      "outputs": [
        {
          "output_type": "stream",
          "name": "stdout",
          "text": [
            "/content/drive/MyDrive/semanaTec/arte-analitica\n"
          ]
        }
      ]
    },
    {
      "cell_type": "code",
      "metadata": {
        "colab": {
          "base_uri": "https://localhost:8080/",
          "height": 203
        },
        "id": "XZUnR82dpjt3",
        "outputId": "7d30433d-a9e8-459f-c097-cae90b497a0b"
      },
      "source": [
        "presion = pd.read_csv('data/presion.csv', )\n",
        "presion.head()"
      ],
      "execution_count": 9,
      "outputs": [
        {
          "output_type": "execute_result",
          "data": {
            "text/html": [
              "<div>\n",
              "<style scoped>\n",
              "    .dataframe tbody tr th:only-of-type {\n",
              "        vertical-align: middle;\n",
              "    }\n",
              "\n",
              "    .dataframe tbody tr th {\n",
              "        vertical-align: top;\n",
              "    }\n",
              "\n",
              "    .dataframe thead th {\n",
              "        text-align: right;\n",
              "    }\n",
              "</style>\n",
              "<table border=\"1\" class=\"dataframe\">\n",
              "  <thead>\n",
              "    <tr style=\"text-align: right;\">\n",
              "      <th></th>\n",
              "      <th>edad</th>\n",
              "      <th>Average of ap_hi</th>\n",
              "      <th>Average of ap_lo</th>\n",
              "    </tr>\n",
              "  </thead>\n",
              "  <tbody>\n",
              "    <tr>\n",
              "      <th>0</th>\n",
              "      <td>30</td>\n",
              "      <td>112.500000</td>\n",
              "      <td>72.500000</td>\n",
              "    </tr>\n",
              "    <tr>\n",
              "      <th>1</th>\n",
              "      <td>39</td>\n",
              "      <td>119.029340</td>\n",
              "      <td>88.229829</td>\n",
              "    </tr>\n",
              "    <tr>\n",
              "      <th>2</th>\n",
              "      <td>40</td>\n",
              "      <td>119.789630</td>\n",
              "      <td>85.858889</td>\n",
              "    </tr>\n",
              "    <tr>\n",
              "      <th>3</th>\n",
              "      <td>41</td>\n",
              "      <td>121.490862</td>\n",
              "      <td>90.344648</td>\n",
              "    </tr>\n",
              "    <tr>\n",
              "      <th>4</th>\n",
              "      <td>42</td>\n",
              "      <td>120.163872</td>\n",
              "      <td>89.887957</td>\n",
              "    </tr>\n",
              "  </tbody>\n",
              "</table>\n",
              "</div>"
            ],
            "text/plain": [
              "   edad  Average of ap_hi  Average of ap_lo\n",
              "0    30        112.500000         72.500000\n",
              "1    39        119.029340         88.229829\n",
              "2    40        119.789630         85.858889\n",
              "3    41        121.490862         90.344648\n",
              "4    42        120.163872         89.887957"
            ]
          },
          "metadata": {},
          "execution_count": 9
        }
      ]
    },
    {
      "cell_type": "markdown",
      "metadata": {
        "id": "J8x9l3sd5jYI"
      },
      "source": [
        "2. Gráfica la información en el eje de las x la edad  y en el eje y la presión ( alta y baja) \n"
      ]
    },
    {
      "cell_type": "code",
      "metadata": {
        "id": "qCbTiXd45qr0",
        "colab": {
          "base_uri": "https://localhost:8080/",
          "height": 312
        },
        "outputId": "8ba5452b-2809-4a30-861c-0942c7ba2a93"
      },
      "source": [
        "# alta\n",
        "fig, axs = plt.subplots(figsize=(4,4))\n",
        "sns.scatterplot(data=presion, x='edad',y='Average of ap_hi')\n",
        "plt.title(\"Relación entre la edad y la presión alta\")\n",
        "plt.xlabel(\"Edad\")\n",
        "plt.ylabel(\"Promedio presión alta\")"
      ],
      "execution_count": 30,
      "outputs": [
        {
          "output_type": "execute_result",
          "data": {
            "text/plain": [
              "Text(0, 0.5, 'Promedio presión alta')"
            ]
          },
          "metadata": {},
          "execution_count": 30
        },
        {
          "output_type": "display_data",
          "data": {
            "image/png": "[encoded data removed]",
            "text/plain": [
              "<Figure size 288x288 with 1 Axes>"
            ]
          },
          "metadata": {
            "needs_background": "light"
          }
        }
      ]
    },
    {
      "cell_type": "code",
      "metadata": {
        "id": "wJ8Xj4cjlKRT",
        "colab": {
          "base_uri": "https://localhost:8080/",
          "height": 312
        },
        "outputId": "4e74a8e0-effb-4607-a4ef-64f9c77790dd"
      },
      "source": [
        "# baja\n",
        "fig, axs = plt.subplots(figsize=(4,4))\n",
        "sns.scatterplot(data=presion, x='edad',y='Average of ap_lo', color='red')\n",
        "plt.title(\"Relación entre la edad y la presión baja\")\n",
        "plt.xlabel(\"Edad\")\n",
        "plt.ylabel(\"Promedio presión baja\")"
      ],
      "execution_count": 31,
      "outputs": [
        {
          "output_type": "execute_result",
          "data": {
            "text/plain": [
              "Text(0, 0.5, 'Promedio presión baja')"
            ]
          },
          "metadata": {},
          "execution_count": 31
        },
        {
          "output_type": "display_data",
          "data": {
            "image/png": "[encoded data removed]",
            "text/plain": [
              "<Figure size 288x288 with 1 Axes>"
            ]
          },
          "metadata": {
            "needs_background": "light"
          }
        }
      ]
    },
    {
      "cell_type": "markdown",
      "metadata": {
        "id": "Ha4fEpQ_5roa"
      },
      "source": [
        "3. Genera una regresión líneal para obtener una aproximación de la ecuación \n",
        "$$\n",
        "y = ax + b\n",
        "$$\n",
        "donde $ a $ se conoce comúnmente como **pendiente**, y $ b $ se conoce comúnmente como **intersección**.\n",
        "\n",
        "¿Cuál es el valor de a y cuál es el valor de b para la presión alta y baja?"
      ]
    },
    {
      "cell_type": "code",
      "metadata": {
        "id": "BIcuqKya6zHY",
        "colab": {
          "base_uri": "https://localhost:8080/"
        },
        "outputId": "0f0cc135-1e85-4b95-a108-7513835c124f"
      },
      "source": [
        "from sklearn.linear_model import LinearRegression\n",
        "model_hi = LinearRegression(fit_intercept=True)\n",
        "x_hi=presion['edad']\n",
        "y_hi=presion['Average of ap_hi']\n",
        "model_hi.fit(x_hi[:, np.newaxis], y_hi)\n",
        "\n",
        "xfit_hi = np.linspace(0, 70, 1000)\n",
        "yfit_hi = model_hi.predict(xfit_hi[:, np.newaxis])\n",
        "\n",
        "hi_coef = model_hi.coef_[0]\n",
        "hi_intercept = model_hi.intercept_\n",
        "\n",
        "print(\"Model slope (pendiente):    \", hi_coef)\n",
        "print(\"Model intercept (intersección):\", hi_intercept)"
      ],
      "execution_count": 94,
      "outputs": [
        {
          "output_type": "stream",
          "name": "stdout",
          "text": [
            "Model slope (pendiente):     0.4776970297766919\n",
            "Model intercept (intersección): 103.39697409643658\n"
          ]
        },
        {
          "output_type": "stream",
          "name": "stderr",
          "text": [
            "/usr/local/lib/python3.7/dist-packages/ipykernel_launcher.py:5: FutureWarning: Support for multi-dimensional indexing (e.g. `obj[:, None]`) is deprecated and will be removed in a future version.  Convert to a numpy array before indexing instead.\n",
            "  \"\"\"\n"
          ]
        }
      ]
    },
    {
      "cell_type": "code",
      "metadata": {
        "id": "lvtHlE2glb5A",
        "colab": {
          "base_uri": "https://localhost:8080/"
        },
        "outputId": "4aa98c70-3665-4e8d-a50b-0da3eddd9d76"
      },
      "source": [
        "from sklearn.linear_model import LinearRegression\n",
        "model = LinearRegression(fit_intercept=True)\n",
        "x=presion['edad']\n",
        "y=presion['Average of ap_lo']\n",
        "model.fit(x[:, np.newaxis], y)\n",
        "\n",
        "xfit = np.linspace(0, 70, 1000)\n",
        "yfit = model.predict(xfit[:, np.newaxis])\n",
        "\n",
        "lo_coef = model.coef_[0]\n",
        "lo_intercept = model.intercept_\n",
        "\n",
        "print(\"Model slope (pendiente):    \", lo_coef)\n",
        "print(\"Model intercept (intersección):\", lo_intercept)"
      ],
      "execution_count": 95,
      "outputs": [
        {
          "output_type": "stream",
          "name": "stdout",
          "text": [
            "Model slope (pendiente):     0.6089810580238239\n",
            "Model intercept (intersección): 63.726200409422745\n"
          ]
        },
        {
          "output_type": "stream",
          "name": "stderr",
          "text": [
            "/usr/local/lib/python3.7/dist-packages/ipykernel_launcher.py:5: FutureWarning: Support for multi-dimensional indexing (e.g. `obj[:, None]`) is deprecated and will be removed in a future version.  Convert to a numpy array before indexing instead.\n",
            "  \"\"\"\n"
          ]
        }
      ]
    },
    {
      "cell_type": "markdown",
      "metadata": {
        "id": "OGwecRAP6zSc"
      },
      "source": [
        "4. Gráfica los datos reales vs modelo obtenido. \n",
        "\n",
        "Se debe visualizar los datos reales ( azules) \n",
        "Recta del modelo ( negra) \n",
        "Distancias ( verde ) "
      ]
    },
    {
      "cell_type": "code",
      "metadata": {
        "id": "hhStTwBE64m_",
        "colab": {
          "base_uri": "https://localhost:8080/",
          "height": 351
        },
        "outputId": "44d1e103-3bea-4534-fde8-7bd6bde5cafb"
      },
      "source": [
        "plt.scatter(x_hi, y_hi)\n",
        "plt.plot(xfit_hi, yfit_hi, color=\"black\");\n",
        "plt.plot(x_hi,y_hi, 'o')\n",
        "plt.plot(np.vstack([x_hi,x_hi]), np.vstack([y_hi, model_hi.predict(x_hi[:, np.newaxis])]), color=\"green\");\n",
        "plt.title(\"Regresión lineal: Presión alta\")"
      ],
      "execution_count": 78,
      "outputs": [
        {
          "output_type": "stream",
          "name": "stderr",
          "text": [
            "/usr/local/lib/python3.7/dist-packages/ipykernel_launcher.py:4: FutureWarning: Support for multi-dimensional indexing (e.g. `obj[:, None]`) is deprecated and will be removed in a future version.  Convert to a numpy array before indexing instead.\n",
            "  after removing the cwd from sys.path.\n"
          ]
        },
        {
          "output_type": "execute_result",
          "data": {
            "text/plain": [
              "Text(0.5, 1.0, 'Regresión lineal: Presión alta')"
            ]
          },
          "metadata": {},
          "execution_count": 78
        },
        {
          "output_type": "display_data",
          "data": {
            "image/png": "[encoded data removed]",
            "text/plain": [
              "<Figure size 432x288 with 1 Axes>"
            ]
          },
          "metadata": {
            "needs_background": "light"
          }
        }
      ]
    },
    {
      "cell_type": "code",
      "metadata": {
        "id": "4uMCfSjalf39",
        "colab": {
          "base_uri": "https://localhost:8080/",
          "height": 351
        },
        "outputId": "8da87005-eed0-451a-89d8-ad38a3f9f2e6"
      },
      "source": [
        "plt.scatter(x, y)\n",
        "plt.plot(xfit, yfit, color=\"black\");\n",
        "plt.plot(x,y, 'o')\n",
        "plt.plot(np.vstack([x,x]), np.vstack([y, model.predict(x[:, np.newaxis])]), color=\"green\");\n",
        "plt.title(\"Regresión lineal: Presión baja\")"
      ],
      "execution_count": 79,
      "outputs": [
        {
          "output_type": "stream",
          "name": "stderr",
          "text": [
            "/usr/local/lib/python3.7/dist-packages/ipykernel_launcher.py:4: FutureWarning: Support for multi-dimensional indexing (e.g. `obj[:, None]`) is deprecated and will be removed in a future version.  Convert to a numpy array before indexing instead.\n",
            "  after removing the cwd from sys.path.\n"
          ]
        },
        {
          "output_type": "execute_result",
          "data": {
            "text/plain": [
              "Text(0.5, 1.0, 'Regresión lineal: Presión baja')"
            ]
          },
          "metadata": {},
          "execution_count": 79
        },
        {
          "output_type": "display_data",
          "data": {
            "image/png": "[encoded data removed]",
            "text/plain": [
              "<Figure size 432x288 with 1 Axes>"
            ]
          },
          "metadata": {
            "needs_background": "light"
          }
        }
      ]
    },
    {
      "cell_type": "markdown",
      "metadata": {
        "id": "oZhvlIU57ECO"
      },
      "source": [
        "5. ¿Cuál es la presión arterial hi y lo esperada para una persona de 76 años?\n",
        "\n",
        "Genera una función que calcule lo anterior"
      ]
    },
    {
      "cell_type": "code",
      "metadata": {
        "id": "AAorqUTv7LjX",
        "colab": {
          "base_uri": "https://localhost:8080/"
        },
        "outputId": "53db4987-1292-4548-973e-b1f600fb7e57"
      },
      "source": [
        "edad_calcular=42\n",
        "\n",
        "def presionLo(edad):\n",
        "  r = lo_intercept + (lo_coef * edad)\n",
        "  return r\n",
        "\n",
        "presionLo(edad_calcular)"
      ],
      "execution_count": 97,
      "outputs": [
        {
          "output_type": "execute_result",
          "data": {
            "text/plain": [
              "89.30340484642335"
            ]
          },
          "metadata": {},
          "execution_count": 97
        }
      ]
    },
    {
      "cell_type": "code",
      "metadata": {
        "id": "jdfSoYUQlwUn",
        "colab": {
          "base_uri": "https://localhost:8080/"
        },
        "outputId": "fa438c06-9d63-4145-825f-00ffcadf78de"
      },
      "source": [
        "def presionHi(edad):\n",
        "  r = hi_intercept + (hi_coef * edad)\n",
        "  return r \n",
        "\n",
        "presionHi(edad_calcular)"
      ],
      "execution_count": 98,
      "outputs": [
        {
          "output_type": "execute_result",
          "data": {
            "text/plain": [
              "123.46024934705764"
            ]
          },
          "metadata": {},
          "execution_count": 98
        }
      ]
    },
    {
      "cell_type": "markdown",
      "metadata": {
        "id": "6PdCjG7k5OtV"
      },
      "source": [
        "Conclusiones "
      ]
    },
    {
      "cell_type": "markdown",
      "metadata": {
        "id": "oxsdxPcP5R9S"
      },
      "source": [
        " matrícula- Nombre alumno : detalle\n",
        "\n",
        "**A01274745 - Daira Adriana Chavarría Rodríguez:**\n",
        "\n",
        "Es de gran ayuda tener modelos que puedan predecir temas tan diversos como la salud de las personas, tomando en cuenta el promedio de datos y, a partir de ello, la edad a proyectar.\n",
        "Este tipo de herramientas pueden facilitar la vida de la gente y, como su nombre lo dice, predecir temas de gran importancia.\n",
        "\n",
        "\n",
        "\n"
      ]
    },
    {
      "cell_type": "markdown",
      "metadata": {
        "id": "QpeT5QCaxtMi"
      },
      "source": [
        "#Opcion1: **Ventas de mi negocio**\n",
        "\n"
      ]
    },
    {
      "cell_type": "markdown",
      "metadata": {
        "id": "Q0JIcRWi250C"
      },
      "source": [
        "Nuestro objetivo será construir un modelo que nos permita estimar las ventas de una empresa dependiendo de cuánto presupuesto se gaste en cada medio de difusión."
      ]
    },
    {
      "cell_type": "markdown",
      "metadata": {
        "id": "erS5zKSGx9SS"
      },
      "source": [
        "1. Carga los datos del archivo AdvmiNegocio.csv"
      ]
    },
    {
      "cell_type": "code",
      "metadata": {
        "id": "waoWhXhsyTIW",
        "colab": {
          "base_uri": "https://localhost:8080/",
          "height": 203
        },
        "outputId": "8cc98e6c-d341-4165-9e0f-82b5d2677aab"
      },
      "source": [
        "ventas_df = pd.read_csv('data/AdvmiNegocio.csv', )\n",
        "ventas_df.head()"
      ],
      "execution_count": 11,
      "outputs": [
        {
          "output_type": "execute_result",
          "data": {
            "text/html": [
              "<div>\n",
              "<style scoped>\n",
              "    .dataframe tbody tr th:only-of-type {\n",
              "        vertical-align: middle;\n",
              "    }\n",
              "\n",
              "    .dataframe tbody tr th {\n",
              "        vertical-align: top;\n",
              "    }\n",
              "\n",
              "    .dataframe thead th {\n",
              "        text-align: right;\n",
              "    }\n",
              "</style>\n",
              "<table border=\"1\" class=\"dataframe\">\n",
              "  <thead>\n",
              "    <tr style=\"text-align: right;\">\n",
              "      <th></th>\n",
              "      <th>Unnamed: 0</th>\n",
              "      <th>Redes</th>\n",
              "      <th>Youtube</th>\n",
              "      <th>TV</th>\n",
              "      <th>sales</th>\n",
              "    </tr>\n",
              "  </thead>\n",
              "  <tbody>\n",
              "    <tr>\n",
              "      <th>0</th>\n",
              "      <td>1</td>\n",
              "      <td>6903</td>\n",
              "      <td>1134</td>\n",
              "      <td>2076</td>\n",
              "      <td>663</td>\n",
              "    </tr>\n",
              "    <tr>\n",
              "      <th>1</th>\n",
              "      <td>2</td>\n",
              "      <td>1335</td>\n",
              "      <td>1179</td>\n",
              "      <td>1353</td>\n",
              "      <td>312</td>\n",
              "    </tr>\n",
              "    <tr>\n",
              "      <th>2</th>\n",
              "      <td>3</td>\n",
              "      <td>516</td>\n",
              "      <td>1377</td>\n",
              "      <td>2079</td>\n",
              "      <td>279</td>\n",
              "    </tr>\n",
              "    <tr>\n",
              "      <th>3</th>\n",
              "      <td>4</td>\n",
              "      <td>4545</td>\n",
              "      <td>1239</td>\n",
              "      <td>1755</td>\n",
              "      <td>555</td>\n",
              "    </tr>\n",
              "    <tr>\n",
              "      <th>4</th>\n",
              "      <td>5</td>\n",
              "      <td>5424</td>\n",
              "      <td>324</td>\n",
              "      <td>1752</td>\n",
              "      <td>387</td>\n",
              "    </tr>\n",
              "  </tbody>\n",
              "</table>\n",
              "</div>"
            ],
            "text/plain": [
              "   Unnamed: 0  Redes  Youtube    TV  sales\n",
              "0           1   6903     1134  2076    663\n",
              "1           2   1335     1179  1353    312\n",
              "2           3    516     1377  2079    279\n",
              "3           4   4545     1239  1755    555\n",
              "4           5   5424      324  1752    387"
            ]
          },
          "metadata": {},
          "execution_count": 11
        }
      ]
    },
    {
      "cell_type": "markdown",
      "metadata": {
        "id": "KQYRlwotyTXh"
      },
      "source": [
        "2. Generar una grafica para visuaizar  cómo se relaciona cada columna de presupuesto contra las ventas. De mi negocio. ( Redes,Youtube,TV)\n"
      ]
    },
    {
      "cell_type": "code",
      "metadata": {
        "id": "3x5005GpygO5",
        "colab": {
          "base_uri": "https://localhost:8080/",
          "height": 326
        },
        "outputId": "53999f65-e6ac-419b-eb71-0b3e40f3cc24"
      },
      "source": [
        "fig, axs = plt.subplots(1, 3, figsize=(15,4))\n",
        "\n",
        "fig.suptitle('Ventas con relación a redes sociales, Youtube y TV')\n",
        "\n",
        "sns.scatterplot(data=ventas_df, x='Redes',y='sales', ax=axs[0])\n",
        "sns.scatterplot(data=ventas_df, x='Youtube',y='sales', ax=axs[1], color='red')\n",
        "sns.scatterplot(data=ventas_df, x='TV',y='sales', ax=axs[2], color='green')\n",
        "\n",
        "fig.legend(labels=['Redes', 'Youtube', 'TV'])"
      ],
      "execution_count": 12,
      "outputs": [
        {
          "output_type": "execute_result",
          "data": {
            "text/plain": [
              "<matplotlib.legend.Legend at 0x7f2f5894c910>"
            ]
          },
          "metadata": {},
          "execution_count": 12
        },
        {
          "output_type": "display_data",
          "data": {
            "image/png": "[encoded data removed]",
            "text/plain": [
              "<Figure size 1080x288 with 3 Axes>"
            ]
          },
          "metadata": {
            "needs_background": "light"
          }
        }
      ]
    },
    {
      "cell_type": "markdown",
      "metadata": {
        "id": "rrREuedNygXw"
      },
      "source": [
        "3. ¿ Qué conclusiones puedes obtener de las graficas anteriores?\n"
      ]
    },
    {
      "cell_type": "markdown",
      "metadata": {
        "id": "Ap42szXtyoiK"
      },
      "source": [
        "Daira Adriana Chavarría Rodríguez: \n",
        "* Las ventas por Youtube resultan ser mayores a comparación de TV y redes.\n",
        "* A pesar de tener una gráfica más estable, es decir una línea más notoria; la gráfica de **Redes** nos dice que requerimos gastar un **mayor presupuesto**.\n",
        "* Además de lo anteriormente mencionado, las ventas por **Youtube** resultan tener un **mayor beneficio** con relación al presupuesto gastado.\n",
        "* A pesar de tener un \"ruido\" notorio, o una dispersión en la gráfica de TV, las ventas logradas se concentran principalmente en un rango de 200-500.\n"
      ]
    },
    {
      "cell_type": "markdown",
      "metadata": {
        "id": "U09F1JeRyuIq"
      },
      "source": [
        "4. **Regresión lineal**. En su forma más simple, consiste en asumir que una variable $x$ y una variable $y$ presentan una relación lineal de la forma:\n",
        "\n",
        "$$ y \\approx \\beta_0 + \\beta_1 \\cdot x$$\n",
        "\n",
        "¿Cuál es el valor de beta_0 , beta_1 y el Score  para **Redes vs Ventas** , **TV vs Ventas** y **YouTube vs Ventas**?"
      ]
    },
    {
      "cell_type": "code",
      "metadata": {
        "id": "oR08Bt9b8FZT",
        "colab": {
          "base_uri": "https://localhost:8080/"
        },
        "outputId": "c8b3ca2a-8702-447b-b7e2-b6b6b62c6d52"
      },
      "source": [
        "# La función para implementar una regresión lineal en Python\n",
        "from sklearn.linear_model import LinearRegression\n",
        "# Con esta función, podemos calcular los coeficientes para cada una de las variables\n",
        "\n",
        "# Redes\n",
        "lm1 = LinearRegression()\n",
        "# La variable X la ponemos con doble corchete!\n",
        "lm1.fit(ventas_df[['Redes']], ventas_df['sales'])\n",
        "print('Redes vs Ventas')\n",
        "print('beta_0: ', lm1.intercept_)\n",
        "print('beta_1: ', lm1.coef_)\n",
        "print('Score: ', lm1.score(ventas_df[['TV']], ventas_df['sales']), '\\n')\n",
        "\n",
        "# Youtube\n",
        "lm2 = LinearRegression()\n",
        "# La variable X la ponemos con doble corchete!\n",
        "lm2.fit(ventas_df[['Youtube']], ventas_df['sales'])\n",
        "print('Youtube vs Ventas')\n",
        "print('beta_0: ', lm2.intercept_)\n",
        "print('beta_1: ', lm2.coef_)\n",
        "print('Score: ', lm2.score(ventas_df[['Youtube']], ventas_df['sales']), '\\n')\n",
        "\n",
        "\n",
        "# TV\n",
        "lm3 = LinearRegression()\n",
        "# La variable X la ponemos con doble corchete!\n",
        "lm3.fit(ventas_df[['TV']], ventas_df['sales'])\n",
        "print('TV vs Ventas')\n",
        "print('beta_0: ', lm3.intercept_)\n",
        "print('beta_1: ', lm3.coef_)\n",
        "print('Score: ', lm3.score(ventas_df[['TV']], ventas_df['sales']))"
      ],
      "execution_count": 84,
      "outputs": [
        {
          "output_type": "stream",
          "name": "stdout",
          "text": [
            "Redes vs Ventas\n",
            "beta_0:  210.97780647383084\n",
            "beta_1:  [0.04753664]\n",
            "Score:  -1.0808654511451166 \n",
            "\n",
            "Youtube vs Ventas\n",
            "beta_0:  279.3491428547485\n",
            "beta_1:  [0.20249578]\n",
            "Score:  0.33203245544529536 \n",
            "\n",
            "TV vs Ventas\n",
            "beta_0:  370.5422120783448\n",
            "beta_1:  [0.0546931]\n",
            "Score:  0.05212044544430494\n"
          ]
        }
      ]
    },
    {
      "cell_type": "markdown",
      "metadata": {
        "id": "er8aCv1l0FQK"
      },
      "source": [
        "5. ¿Cuál de los modelos es mejor de acuerdo al score? ordenalos del mejor al peor"
      ]
    },
    {
      "cell_type": "markdown",
      "metadata": {
        "id": "oGJu546n_q-J"
      },
      "source": [
        "Ordenados de mejor al peor:\n",
        "\n",
        "\n",
        "1. Youtube\n",
        "2. TV\n",
        "3. Redes\n",
        "\n"
      ]
    },
    {
      "cell_type": "markdown",
      "metadata": {
        "id": "56LBN0_d0OAC"
      },
      "source": [
        "6.  **Regresión lineal múltiple**. Como ahora vamos a incluir más de una variable, el modelo se rescribe a :\n",
        "\n",
        "$$ \\hat{y} = \\hat{\\beta}_0 + \\hat{\\beta}_1 \\cdot x_1 + \\hat{\\beta}_2 \\cdot x_2 + \\hat{\\beta}_3\\cdot x_3 + \\ldots \\epsilon $$\n",
        "\n",
        "Elige  las diferentes combinaciones de variables. Ejemplo: Redes y Youtube vs Ventas \n",
        "\n",
        "¿Cuál es el valor de beta_0, betas_1 , beta_2 , el score y el score ajustado de **Redes y Youtube vs Ventas**, **Redes y TV vs Ventas**, **Youtube y TV vs Ventas**, **Redes y TV**, **Tv y Redes vs Ventas**  y **Ventas vs Youtube vs Ventas**  ?\n",
        "\n"
      ]
    },
    {
      "cell_type": "code",
      "metadata": {
        "id": "o4hxFjH8_70U",
        "colab": {
          "base_uri": "https://localhost:8080/"
        },
        "outputId": "171a599b-02dc-4020-d27a-961a17c7cb06"
      },
      "source": [
        "# Vamos a calcular el modelo con dos variables simultáneas\n",
        "# Vamos a definir una función para calcular esta métrica.\n",
        "def score_adj(X, y, model):\n",
        "    return 1 - (1-model.score(X, y))*(len(y)-1)/(len(y)-X.shape[1]-1)\n",
        "\n",
        "# Redes  y Youtube\n",
        "lm4 = LinearRegression()\n",
        "# La variable X la ponemos con doble corchete!\n",
        "lm4.fit(ventas_df[['Redes', 'Youtube']], ventas_df['sales'])\n",
        "print('Redes  y Youtube')\n",
        "print('beta_0: ', lm4.intercept_)\n",
        "print('betas: ', lm4.coef_)\n",
        "print('Score: ', lm4.score(ventas_df[['Redes', 'Youtube']], ventas_df['sales']))\n",
        "print('Score ajustado:', score_adj(ventas_df[['Redes', 'Youtube']], ventas_df['sales'], lm4), '\\n')\n",
        "\n",
        "# Redes y TV\n",
        "lm5 = LinearRegression()\n",
        "# La variable X la ponemos con doble corchete!\n",
        "lm5.fit(ventas_df[['Redes','TV']], ventas_df['sales'])\n",
        "print('Redes y TV')\n",
        "print('beta_0: ', lm5.intercept_)\n",
        "print('betas: ', lm5.coef_)\n",
        "print('Score: ', lm5.score(ventas_df[['Redes','TV']], ventas_df['sales']))\n",
        "print('Score ajustado:', score_adj(ventas_df[['Redes', 'TV']], ventas_df['sales'], lm5), '\\n')\n",
        "\n",
        "# Youtube y TV\n",
        "lm6 = LinearRegression()\n",
        "# La variable X la ponemos con doble corchete!\n",
        "lm6.fit(ventas_df[['Youtube','TV']], ventas_df['sales'])\n",
        "print('Youtube y TV')\n",
        "print('beta_0: ', lm6.intercept_)\n",
        "print('betas: ', lm6.coef_)\n",
        "print('Score: ', lm6.score(ventas_df[['Youtube','TV']], ventas_df['sales']))\n",
        "print('Score ajustado:', score_adj(ventas_df[['Youtube', 'TV']], ventas_df['sales'], lm6), '\\n')\n",
        "\n",
        "# Youtube y Redes\n",
        "lm7 = LinearRegression()\n",
        "# La variable X la ponemos con doble corchete!\n",
        "lm7.fit(ventas_df[['Youtube','Redes']], ventas_df['sales'])\n",
        "print('Youtube y Redes')\n",
        "print('beta_0: ', lm7.intercept_)\n",
        "print('betas: ', lm7.coef_)\n",
        "print('Score: ', lm7.score(ventas_df[['Youtube','Redes']], ventas_df['sales']))\n",
        "print('Score ajustado:', score_adj(ventas_df[['Youtube', 'Redes']], ventas_df['sales'], lm7), '\\n')\n",
        "\n",
        "# TV y Youtube\n",
        "lm8 = LinearRegression()\n",
        "# La variable X la ponemos con doble corchete!\n",
        "lm8.fit(ventas_df[['TV','Youtube']], ventas_df['sales'])\n",
        "print('TV y Youtube')\n",
        "print('beta_0: ', lm8.intercept_)\n",
        "print('betas: ', lm8.coef_)\n",
        "print('Score: ', lm8.score(ventas_df[['TV','Youtube']], ventas_df['sales']))\n",
        "print('Score ajustado:', score_adj(ventas_df[['TV', 'Youtube']], ventas_df['sales'], lm8), '\\n')\n",
        "\n",
        "# TV y Redes\n",
        "lm9 = LinearRegression()\n",
        "# La variable X la ponemos con doble corchete!\n",
        "lm9.fit(ventas_df[['TV','Redes']], ventas_df['sales'])\n",
        "print('TV y Redes')\n",
        "print('beta_0: ', lm9.intercept_)\n",
        "print('betas: ', lm9.coef_)\n",
        "print('Score: ', lm9.score(ventas_df[['TV','Redes']], ventas_df['sales']))\n",
        "print('Score ajustado:', score_adj(ventas_df[['TV', 'Redes']], ventas_df['sales'], lm9), '\\n')"
      ],
      "execution_count": 29,
      "outputs": [
        {
          "output_type": "stream",
          "name": "stdout",
          "text": [
            "Redes  y Youtube\n",
            "beta_0:  87.63299737215414\n",
            "betas:  [0.04575482 0.18799423]\n",
            "Score:  0.8971942610828956\n",
            "Score ajustado: 0.8961505479974428 \n",
            "\n",
            "Redes y TV\n",
            "beta_0:  173.24843903734896\n",
            "betas:  [0.04690121 0.04421942]\n",
            "Score:  0.6458354938293271\n",
            "Score ajustado: 0.6422399150864777 \n",
            "\n",
            "Youtube y TV\n",
            "beta_0:  275.66761377589694\n",
            "betas:  [0.19904459 0.00664417]\n",
            "Score:  0.33270518395032256\n",
            "Score ajustado: 0.3259306172899198 \n",
            "\n",
            "Youtube y Redes\n",
            "beta_0:  87.6329973721542\n",
            "betas:  [0.18799423 0.04575482]\n",
            "Score:  0.8971942610828956\n",
            "Score ajustado: 0.8961505479974428 \n",
            "\n",
            "TV y Youtube\n",
            "beta_0:  275.6676137758969\n",
            "betas:  [0.00664417 0.19904459]\n",
            "Score:  0.33270518395032256\n",
            "Score ajustado: 0.3259306172899198 \n",
            "\n",
            "TV y Redes\n",
            "beta_0:  173.24843903734907\n",
            "betas:  [0.04421942 0.04690121]\n",
            "Score:  0.6458354938293271\n",
            "Score ajustado: 0.6422399150864777 \n",
            "\n"
          ]
        }
      ]
    },
    {
      "cell_type": "markdown",
      "metadata": {
        "id": "C6bsCdYP1jd5"
      },
      "source": [
        "¿Cuál modelo es el que nos conviene elegir?"
      ]
    },
    {
      "cell_type": "markdown",
      "metadata": {
        "id": "iVZeSnvp1qUa"
      },
      "source": [
        "El mejor modelo es usar tanto **Youtube** como las **Redes**."
      ]
    },
    {
      "cell_type": "markdown",
      "metadata": {
        "id": "zE_FiwVZ5fqu"
      },
      "source": [
        "8. Conclusiones "
      ]
    },
    {
      "cell_type": "markdown",
      "metadata": {
        "id": "q414TE8o5h7n"
      },
      "source": [
        " matrícula- Nombre alumno : detalle\n",
        "\n",
        "**Daira Adriana Chavarría Rodríguez A01274745**\n",
        "\n",
        "Este tipo de actividades nos permiten conocer nuestros datos y predecir el resultado de, por ejemplo, inversiones en negocios o resultados de partidos.\n",
        "Se pueden utilizar este tipo de modelos en básicamente todos los aspectos posibles, desde los negocios hasta la salud.\n",
        "\n",
        "Son herramientas para observar con detalle los cambios ocurridos a lo largo del tiempo, o sobre variables como la edad. \n",
        "\n"
      ]
    },
    {
      "cell_type": "markdown",
      "metadata": {
        "id": "SM977Uzc56Qx"
      },
      "source": [
        "#Opcion2: **Gastos en seguro**"
      ]
    },
    {
      "cell_type": "code",
      "metadata": {
        "id": "UoznPvNg7j5L"
      },
      "source": [
        ""
      ],
      "execution_count": null,
      "outputs": []
    },
    {
      "cell_type": "markdown",
      "metadata": {
        "id": "rhGhKyEz6GLN"
      },
      "source": [
        "Nuestro objetivo será construir un modelo que nos permita estimar los gastos de seguro dependiendo de edad,sexo, indice de masa corporal, numero de hijos, si se fuma, región.\n",
        "\n",
        "El dataset consta de las columnas: \n",
        "- age: edad del beneficiario principal\n",
        "- sex: female o male \n",
        "- bmi: indice de masa corporal\n",
        "- children: numero de niños que estan cubiertos con la poliza. \n",
        "- smoke: si fuma el beneficiario si/no\n",
        "- region: región en dónde vive el beneficiario. Estos datos son de Estados Unidos. Regiones disponibles: northeast, southeast, southwest, northwest\n",
        "- charges: costo del seguro.\n",
        "\n",
        "\n",
        "Referencia de dataset: \n",
        "https://github.com/stedy/Machine-Learning-with-R-datasets/blob/master/insurance.csv"
      ]
    },
    {
      "cell_type": "markdown",
      "metadata": {
        "id": "Fm5ZBm8x7oFA"
      },
      "source": [
        "1.a. Carga los datos del archivo insurance.csv "
      ]
    },
    {
      "cell_type": "code",
      "metadata": {
        "id": "Y3_F5gVu7qKf"
      },
      "source": [
        ""
      ],
      "execution_count": null,
      "outputs": []
    },
    {
      "cell_type": "markdown",
      "metadata": {
        "id": "VR6KYr9A9Rkz"
      },
      "source": [
        "1.b. Crea unas columnas con las siguientes caracteristicas:\n",
        "- fuma: 1 si el bvalor de smoke es \"yes\" y 0 si el valor de smoke es \"no\" \n",
        "- region: si es northeast - 0 , southeast- 1, southwest- 2, northwest - 3\n",
        "- sexo: 0 si es \"male\" y 1 si es \"female\""
      ]
    },
    {
      "cell_type": "code",
      "metadata": {
        "id": "8NvTvpzT9R4O"
      },
      "source": [
        ""
      ],
      "execution_count": null,
      "outputs": []
    },
    {
      "cell_type": "markdown",
      "metadata": {
        "id": "cygVOvVC7zV7"
      },
      "source": [
        "2. Generar una(s) grafica(s) para visuaizar cómo se relaciona cada columna de costo en seguro contra otras variables."
      ]
    },
    {
      "cell_type": "code",
      "metadata": {
        "id": "l-rXv0kc77Ja"
      },
      "source": [
        ""
      ],
      "execution_count": null,
      "outputs": []
    },
    {
      "cell_type": "markdown",
      "metadata": {
        "id": "U6utXWVu7_Kg"
      },
      "source": [
        "3. ¿ Qué conclusiones puedes obtener de las graficas anteriores?"
      ]
    },
    {
      "cell_type": "code",
      "metadata": {
        "id": "q_ZNRXex8ASC"
      },
      "source": [
        ""
      ],
      "execution_count": null,
      "outputs": []
    },
    {
      "cell_type": "markdown",
      "metadata": {
        "id": "RSRQf2Hv8JMr"
      },
      "source": [
        "4. **Regresión lineal**. En su forma más simple, consiste en asumir que una variable $x$ y una variable $y$ presentan una relación lineal de la forma:\n",
        "\n",
        "$$ y \\approx \\beta_0 + \\beta_1 \\cdot x$$\n",
        "\n",
        "¿Cuál es el valor de beta_0 , beta_1 y el Score  para **Edad vs Costo** , **Indice de masa corporal vs Costo** , **Niños vs Costo** y otros?"
      ]
    },
    {
      "cell_type": "code",
      "metadata": {
        "id": "nzWOFphW_nJ9"
      },
      "source": [
        ""
      ],
      "execution_count": null,
      "outputs": []
    },
    {
      "cell_type": "markdown",
      "metadata": {
        "id": "RdEqq0sF_nid"
      },
      "source": [
        "5. ¿Cuál de los modelos es mejor de acuerdo al score ordenalos del mejor al peor?"
      ]
    },
    {
      "cell_type": "markdown",
      "metadata": {
        "id": "0vdminTh_t3A"
      },
      "source": [
        "*Escibe aquí...*."
      ]
    },
    {
      "cell_type": "markdown",
      "metadata": {
        "id": "CM4Jdqtk_zIO"
      },
      "source": [
        "6.  **Regresión lineal múltiple**. Como ahora vamos a incluir más de una variable, el modelo se rescribe a :\n",
        "\n",
        "$$ \\hat{y} = \\hat{\\beta}_0 + \\hat{\\beta}_1 \\cdot x_1 + \\hat{\\beta}_2 \\cdot x_2 + \\hat{\\beta}_3\\cdot x_3 + \\ldots \\epsilon $$\n",
        "\n",
        "Elige  las diferentes combinaciones de variables. Ejemplo: Redes y Youtube vs Ventas \n",
        "\n",
        "¿Cuál es el valor de beta_0, betas_1 , beta_2 , el score y el score ajustado de de 5 combinaciones . Ejemplo: **Edad, Niños, Region vs Costo** ?"
      ]
    },
    {
      "cell_type": "code",
      "metadata": {
        "id": "lCS6xvRt__Kx"
      },
      "source": [
        ""
      ],
      "execution_count": null,
      "outputs": []
    },
    {
      "cell_type": "markdown",
      "metadata": {
        "id": "NYcv7AsM__h6"
      },
      "source": [
        " 7. ¿Cuál modelo es el que nos conviene elegir?"
      ]
    },
    {
      "cell_type": "markdown",
      "metadata": {
        "id": "i37qcOQfAE6e"
      },
      "source": [
        "*Escibe aquí...*."
      ]
    },
    {
      "cell_type": "markdown",
      "metadata": {
        "id": "atxWK2HFAJxf"
      },
      "source": [
        "8. Conclusiones "
      ]
    },
    {
      "cell_type": "markdown",
      "metadata": {
        "id": "teauFJW6ALe0"
      },
      "source": [
        " matrícula- Nombre alumno : detalle"
      ]
    }
  ]
}